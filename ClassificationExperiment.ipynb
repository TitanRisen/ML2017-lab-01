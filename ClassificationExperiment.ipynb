{
 "cells": [
  {
   "cell_type": "code",
   "execution_count": 4,
   "metadata": {
    "collapsed": true
   },
   "outputs": [],
   "source": [
    "#导入包\n",
    "from numpy import *\n",
    "import matplotlib.pyplot as plt\n",
    "from sklearn.datasets import load_svmlight_file\n",
    "from sklearn.model_selection import train_test_split\n",
    "import numpy as np\n",
    "import scipy"
   ]
  },
  {
   "cell_type": "code",
   "execution_count": 5,
   "metadata": {
    "collapsed": true
   },
   "outputs": [],
   "source": [
    "#获取数据\n",
    "def get_data(fileName):\n",
    "    data = load_svmlight_file(fileName)\n",
    "    return data[0],data[1]\n",
    "X,Y = get_data(\"australian_scale.txt\")"
   ]
  },
  {
   "cell_type": "code",
   "execution_count": 6,
   "metadata": {},
   "outputs": [
    {
     "name": "stdout",
     "output_type": "stream",
     "text": [
      "(462, 14) (462,)\n"
     ]
    }
   ],
   "source": [
    "#切分数据\n",
    "X_train, X_test, y_train, y_test = train_test_split(\n",
    "     X, Y, test_size=0.33, random_state=42)\n",
    "print(X_train.shape,y_train.shape)"
   ]
  },
  {
   "cell_type": "code",
   "execution_count": 7,
   "metadata": {
    "collapsed": true
   },
   "outputs": [],
   "source": [
    "def sigmoid(X,weights):\n",
    "    return 1/(1+np.exp(-X*weights))"
   ]
  },
  {
   "cell_type": "code",
   "execution_count": 8,
   "metadata": {
    "collapsed": true
   },
   "outputs": [],
   "source": [
    "def cul_accuracy(y,label):\n",
    "    n = label.shape[1]\n",
    "    count = 0.0\n",
    "   \n",
    "    for i in range(n):\n",
    "        if(y[i,:] == label[:,i]):\n",
    "            count +=1.0\n",
    "    \n",
    "    \n",
    "    return (count/n)"
   ]
  },
  {
   "cell_type": "code",
   "execution_count": 9,
   "metadata": {
    "collapsed": true
   },
   "outputs": [],
   "source": [
    "#损失函数\n",
    "delta =800\n",
    "def loss(y,label,weights):\n",
    "    m = y.shape[0]\n",
    "    a = sum(np.power(weights,2))\n",
    "    b = []\n",
    "    \n",
    "    for i in range(m):\n",
    "        c = 1-label[:,i]*y[i,:]\n",
    "        b.append(max(c,0))\n",
    "    return  ( 1/(delta) * a +  sum(b)) / (2*m)"
   ]
  },
  {
   "cell_type": "code",
   "execution_count": 10,
   "metadata": {
    "collapsed": true
   },
   "outputs": [],
   "source": [
    "#梯度下降\n",
    "def grad_des(X,label,X_test,Y_test,alpha=0.01,max_iter_count=1000):\n",
    "    labelMat = label.T\n",
    "    m,n = X.shape  \n",
    "    #多插入一个BIAS\n",
    "    x = scipy.sparse.csr.csr_matrix(ones((m,n+1)))\n",
    "    #print(x.shape)\n",
    "    x[:,1:n+1] = X\n",
    "    #print(x[:,:n].shape)\n",
    "    X = x\n",
    "    #print(X.shape)\n",
    "    x = scipy.sparse.csr.csr_matrix(ones((X_test.shape[0],n+1)))\n",
    "    x[:,1:n+1] = X_test\n",
    "    X_test = x\n",
    "    \n",
    "    \n",
    "    #要多插入一个BIAS\n",
    "    weights = mat(zeros(n+1))\n",
    "    weights = weights.T\n",
    "    print (\"weights: \",weights.shape)\n",
    "    iter_list=[]  \n",
    "    loss_train_list=[]\n",
    "    loss_test_list=[]\n",
    "    train_accurcy = []\n",
    "    test_accurcy = []\n",
    "    \n",
    "    grad = zeros(n+1)\n",
    "    \n",
    "    \n",
    "    #阈值选为1.0\n",
    "    theta = 1.0\n",
    "    y = X*weights\n",
    "    y[y>=theta] = 1.0\n",
    "    y[y<-theta] = -1.0 \n",
    "    label = mat(label)\n",
    "    Y_test = mat(Y_test)\n",
    "    print(\"lable\",label.shape)\n",
    "    print(label.shape, X.shape,weights.shape)\n",
    "    grad = zeros(n+1)\n",
    "    #要给出画出随迭代次数的变化图的数据\n",
    "    for k in range(max_iter_count):\n",
    "        #weights[1:] = delta * weights[1:]\n",
    "        #grad = (y-label) *X  /m \n",
    "        #更新梯度\n",
    "        #weights = weights - (alpha * grad)\n",
    "        #print(label[0].shape)\n",
    "        #c = 1-label*y.T\n",
    "        \n",
    "        #一般梯度下降\n",
    "        '''\n",
    "        c = label*(X*weights)\n",
    "        #print(c)\n",
    "        #print(k,(c.shape))\n",
    "        \n",
    "        if( c <=1): \n",
    "           #print(y.shape,X.shape)\n",
    "            g = (label * X).T\n",
    "            #print(\"grad,weights\",grad.shape,weights.shape)\n",
    "            grad =weights - delta*g\n",
    "        else:\n",
    "            grad =weights\n",
    "        \n",
    "        weights = weights - alpha * grad\n",
    "        '''\n",
    "        \n",
    "        #SGD\n",
    "        index = random.randint(0,m)\n",
    "        Wx = X[index,:] * weights \n",
    "        #print( label[:,label])\n",
    "        if(1 - Wx[0,0] * label[:,index] >= 0):\n",
    "            grad = 1/delta * linalg.norm(weights) - X[index,:].T *  label[:,index]\n",
    "        else:\n",
    "            grad = 1/delta * linalg.norm(weights)\n",
    "        \n",
    "        weights = weights - alpha * grad\n",
    "            \n",
    "        \n",
    "        #print(X.shape,weights.T.shape)\n",
    "        y = X*(weights)\n",
    "        y[y>=theta] = 1.0\n",
    "        y[y<-theta]  = -1.0\n",
    "        \n",
    "        y_test = X_test*weights\n",
    "        y_test[y_test>=theta] = 1.0\n",
    "        y_test[y_test<-theta] = -1.0\n",
    "        #y_test = X_test * weights\n",
    "        #计算损失\n",
    "        loss_train= loss(y,label,weights)\n",
    "        loss_test = loss(y_test , Y_test,weights) \n",
    "        #添加进准确率集合\n",
    "        train_accurcy.append(cul_accuracy(y,label))\n",
    "        test_accurcy.append(cul_accuracy(y_test,Y_test))\n",
    "        #添加进损失集合\n",
    "        iter_list.append(k)\n",
    "        loss_train_list.append(loss_train)\n",
    "        loss_test_list.append(loss_test)\n",
    "    return weights,iter_list,loss_train_list,loss_test_list,train_accurcy,test_accurcy"
   ]
  },
  {
   "cell_type": "code",
   "execution_count": 11,
   "metadata": {},
   "outputs": [
    {
     "name": "stdout",
     "output_type": "stream",
     "text": [
      "weights:  (15, 1)\n",
      "lable (1, 462)\n",
      "(1, 462) (462, 15) (15, 1)\n"
     ]
    }
   ],
   "source": [
    "weights,iter_list,loss_train_list,loss_test_list,train_accurcy,test_accurcy= grad_des(X_train,y_train, \n",
    "                                                           X_test,y_test,0.005,1000)"
   ]
  },
  {
   "cell_type": "code",
   "execution_count": 12,
   "metadata": {},
   "outputs": [
    {
     "data": {
      "text/plain": [
       "0.14047273684704786"
      ]
     },
     "execution_count": 12,
     "metadata": {},
     "output_type": "execute_result"
    }
   ],
   "source": [
    "loss_train_list[999] "
   ]
  },
  {
   "cell_type": "code",
   "execution_count": 16,
   "metadata": {},
   "outputs": [
    {
     "data": {
      "image/png": "[encoded data removed]",
      "text/plain": [
       "<matplotlib.figure.Figure at 0x2588ca88e48>"
      ]
     },
     "metadata": {},
     "output_type": "display_data"
    }
   ],
   "source": [
    "plt.figure()\n",
    "plt.plot(iter_list,loss_train_list,color = 'red',linewidth = 1.5,label = \"train\")\n",
    "plt.plot(iter_list,loss_test_list,linestyle = '--',label = \"validation\",linewidth = 1.5)\n",
    "plt.xlabel('iter_times')  \n",
    "plt.ylabel('loss(SGD)') \n",
    "plt.legend()\n",
    "\n",
    "plt.show()"
   ]
  },
  {
   "cell_type": "code",
   "execution_count": 15,
   "metadata": {},
   "outputs": [
    {
     "data": {
      "image/png": "[encoded data removed]",
      "text/plain": [
       "<matplotlib.figure.Figure at 0x2588c9a10f0>"
      ]
     },
     "metadata": {},
     "output_type": "display_data"
    }
   ],
   "source": [
    "plt.figure()\n",
    "plt.plot(iter_list,train_accurcy,color = 'red',linewidth = 1.0,label = \"train\")\n",
    "plt.plot(iter_list,test_accurcy,linestyle = '--',label = \"validation\")\n",
    "plt.legend()\n",
    "plt.show()"
   ]
  },
  {
   "cell_type": "code",
   "execution_count": null,
   "metadata": {
    "collapsed": true
   },
   "outputs": [],
   "source": []
  }
 ],
 "metadata": {
  "kernelspec": {
   "display_name": "Python 3",
   "language": "python",
   "name": "python3"
  },
  "language_info": {
   "codemirror_mode": {
    "name": "ipython",
    "version": 3
   },
   "file_extension": ".py",
   "mimetype": "text/x-python",
   "name": "python",
   "nbconvert_exporter": "python",
   "pygments_lexer": "ipython3",
   "version": "3.6.2"
  }
 },
 "nbformat": 4,
 "nbformat_minor": 2
}
