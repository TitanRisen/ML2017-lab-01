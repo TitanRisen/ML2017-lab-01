{
 "cells": [
  {
   "cell_type": "code",
   "execution_count": 1,
   "metadata": {
    "collapsed": true
   },
   "outputs": [],
   "source": [
    "#导入包\n",
    "from numpy import *\n",
    "import matplotlib.pyplot as plt\n",
    "from sklearn.datasets import load_svmlight_file\n",
    "from sklearn.model_selection import train_test_split\n",
    "import scipy"
   ]
  },
  {
   "cell_type": "code",
   "execution_count": 2,
   "metadata": {
    "collapsed": true
   },
   "outputs": [],
   "source": [
    "#获取数据\n",
    "def get_data(fileName):\n",
    "    data = load_svmlight_file(fileName)\n",
    "    return data[0],data[1]\n",
    "X,Y = get_data(\"housing_scale.txt\")"
   ]
  },
  {
   "cell_type": "code",
   "execution_count": 3,
   "metadata": {
    "scrolled": true
   },
   "outputs": [
    {
     "name": "stdout",
     "output_type": "stream",
     "text": [
      "(506, 13) (506,)\n"
     ]
    }
   ],
   "source": [
    "print(X.shape,Y.shape)"
   ]
  },
  {
   "cell_type": "code",
   "execution_count": 4,
   "metadata": {
    "collapsed": true
   },
   "outputs": [],
   "source": [
    "#切分数据\n",
    "X_train, X_test, y_train, y_test = train_test_split(\n",
    "     X, Y, test_size=0.33, random_state=42)"
   ]
  },
  {
   "cell_type": "code",
   "execution_count": 5,
   "metadata": {},
   "outputs": [
    {
     "name": "stdout",
     "output_type": "stream",
     "text": [
      "(339, 13) (167, 13)\n"
     ]
    }
   ],
   "source": [
    "print(X_train.shape,X_test.shape)"
   ]
  },
  {
   "cell_type": "code",
   "execution_count": 6,
   "metadata": {},
   "outputs": [
    {
     "data": {
      "text/plain": [
       "scipy.sparse.csr.csr_matrix"
      ]
     },
     "execution_count": 6,
     "metadata": {},
     "output_type": "execute_result"
    }
   ],
   "source": [
    "type(X_train)"
   ]
  },
  {
   "cell_type": "code",
   "execution_count": 14,
   "metadata": {
    "collapsed": true,
    "scrolled": true
   },
   "outputs": [],
   "source": [
    "#损失函数\n",
    "def loss(y,label,weights):\n",
    "    m = y.shape[0]\n",
    "    delta = 100\n",
    "    #测试过正则化\n",
    "    return sum(power(y - label,2))/(2 * m)# + delta * sum(power(weights[1:],2))/(2 * m)"
   ]
  },
  {
   "cell_type": "code",
   "execution_count": 41,
   "metadata": {
    "collapsed": true
   },
   "outputs": [],
   "source": [
    "#梯度下降\n",
    "def grad_des(X,label,X_test,Y_test,alpha=0.02, max_iter_count=1000):\n",
    "    ''''\n",
    "    alpha是学习率\n",
    "    ''''\n",
    "    labelMat = label.T\n",
    "    print(X.shape)\n",
    "    m,n = X.shape  #(339, 13)\n",
    "    #一开始竟然漏了BIAS=_= ，查了N久=_=\n",
    "    x = scipy.sparse.csr.csr_matrix(ones((m,n+1)))\n",
    "    print(x.shape)\n",
    "    x[:,1:n+1] = X\n",
    "    #print(x[:,:n].shape)\n",
    "    X = x\n",
    "    print(X.shape)\n",
    "    x = scipy.sparse.csr.csr_matrix(ones((X_test.shape[0],n+1)))\n",
    "    x[:,1:n+1] = X_test\n",
    "    X_test = x\n",
    "    \n",
    "    delta = 100\n",
    "    \n",
    "    weights = zeros(n+1)\n",
    "    iter_list=[]  \n",
    "    loss_train_list=[]\n",
    "    loss_test_list=[]\n",
    "    y = X * weights # shape(339,0)\n",
    "    #要给出画出随迭代次数的变化图的数据\n",
    "    for k in range(max_iter_count):\n",
    "        #weights[1:] = delta * weights[1:]\n",
    "        #测试过正则化\n",
    "        grad = (y-label) *X  /m  #+delta * sum(norm(weights[1:]))/m\n",
    "        #更新梯度\n",
    "        weights = weights - (alpha * grad)\n",
    "        \n",
    "        y = X * weights # shape(339,0)\n",
    "        y_test = X_test * weights\n",
    "        #计算损失\n",
    "        loss_train= loss(y,label,weights)\n",
    "        loss_test = loss(y_test , Y_test,weights)\n",
    "        iter_list.append(k)\n",
    "        loss_train_list.append(loss_train)\n",
    "        loss_test_list.append(loss_test)\n",
    "    return weights,iter_list,loss_train_list,loss_test_list"
   ]
  },
  {
   "cell_type": "code",
   "execution_count": 55,
   "metadata": {},
   "outputs": [
    {
     "name": "stdout",
     "output_type": "stream",
     "text": [
      "(339, 13)\n",
      "(339, 14)\n",
      "(339, 14)\n"
     ]
    }
   ],
   "source": [
    "weights,iter_list,loss_train_list,loss_test_list= grad_des(X_train,y_train, \n",
    "                                                           X_test,y_test,0.05,2000)\n"
   ]
  },
  {
   "cell_type": "code",
   "execution_count": 64,
   "metadata": {},
   "outputs": [
    {
     "data": {
      "image/png": "[encoded data removed]",
      "text/plain": [
       "<matplotlib.figure.Figure at 0x1ee744aa6d8>"
      ]
     },
     "metadata": {},
     "output_type": "display_data"
    },
    {
     "data": {
      "text/plain": [
       "10.47726570351133"
      ]
     },
     "execution_count": 64,
     "metadata": {},
     "output_type": "execute_result"
    }
   ],
   "source": [
    "plt.figure()\n",
    "plt.plot(iter_list,loss_train_list,color = 'red',linewidth = 2.0,label = 'test')\n",
    "plt.plot(iter_list,loss_test_list,linestyle = '--',linewidth = 2.0,label = 'train' )\n",
    "plt.xlabel('iter_times')  \n",
    "plt.ylabel('loss') \n",
    "plt.ylim((8, 50))\n",
    "plt.legend()\n",
    "plt.show()"
   ]
  },
  {
   "cell_type": "code",
   "execution_count": 54,
   "metadata": {},
   "outputs": [
    {
     "data": {
      "text/plain": [
       "10.364229694102526"
      ]
     },
     "execution_count": 54,
     "metadata": {},
     "output_type": "execute_result"
    }
   ],
   "source": []
  },
  {
   "cell_type": "code",
   "execution_count": null,
   "metadata": {
    "collapsed": true
   },
   "outputs": [],
   "source": []
  }
 ],
 "metadata": {
  "kernelspec": {
   "display_name": "Python 3",
   "language": "python",
   "name": "python3"
  },
  "language_info": {
   "codemirror_mode": {
    "name": "ipython",
    "version": 3
   },
   "file_extension": ".py",
   "mimetype": "text/x-python",
   "name": "python",
   "nbconvert_exporter": "python",
   "pygments_lexer": "ipython3",
   "version": "3.6.2"
  }
 },
 "nbformat": 4,
 "nbformat_minor": 2
}
